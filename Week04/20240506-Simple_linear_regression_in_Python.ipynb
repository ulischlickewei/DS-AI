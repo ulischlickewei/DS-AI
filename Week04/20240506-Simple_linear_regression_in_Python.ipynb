{
 "cells": [
  {
   "cell_type": "code",
   "execution_count": null,
   "id": "61cc2efe-d70f-4ad6-a6ae-a05babe2f231",
   "metadata": {},
   "outputs": [],
   "source": [
    "import numpy as np\n",
    "import pandas as pd\n",
    "import matplotlib.pyplot as plt\n",
    "\n",
    "import statsmodels.api as sm\n",
    "from statsmodels.stats.anova import anova_lm"
   ]
  },
  {
   "cell_type": "code",
   "execution_count": null,
   "id": "2e574042-96e9-424d-a95e-79b1d492bd42",
   "metadata": {},
   "outputs": [],
   "source": [
    "from ISLP import load_data\n",
    "from ISLP.models import (ModelSpec as MS,\n",
    "                         summarize)"
   ]
  },
  {
   "cell_type": "code",
   "execution_count": null,
   "id": "6549df53-76e5-4b5c-8a6b-8ac0515621e5",
   "metadata": {},
   "outputs": [],
   "source": [
    "Auto = load_data('Auto')"
   ]
  },
  {
   "cell_type": "code",
   "execution_count": null,
   "id": "83874d06-3ec7-465d-9ba6-e414fa3958c4",
   "metadata": {},
   "outputs": [],
   "source": [
    "Auto"
   ]
  },
  {
   "cell_type": "markdown",
   "id": "99cd441b-a2e7-4f9d-8e2a-79de650ee5e1",
   "metadata": {},
   "source": [
    "## Simple linear regression in Python\n",
    "We are now going to build a simple linear regression model with the objective to predict `mpg` based on `horsepower`:"
   ]
  },
  {
   "cell_type": "markdown",
   "id": "3bde2d32-0ea3-4c8b-8cd2-21f7fcfdbde5",
   "metadata": {},
   "source": [
    "### Step 1: Build design matrix"
   ]
  },
  {
   "cell_type": "code",
   "execution_count": null,
   "id": "ef0e5cb5-ffae-4f89-bc88-abb7f8e7af8e",
   "metadata": {},
   "outputs": [],
   "source": [
    "# your code here"
   ]
  },
  {
   "cell_type": "markdown",
   "id": "186a1f3c-c029-480a-8c07-d1ecca5a5c18",
   "metadata": {},
   "source": [
    "### Step 2: Build response variable"
   ]
  },
  {
   "cell_type": "code",
   "execution_count": null,
   "id": "4cb26245-0dcc-48d7-afd3-13e342f48376",
   "metadata": {},
   "outputs": [],
   "source": [
    "# your code here"
   ]
  },
  {
   "cell_type": "markdown",
   "id": "549431a5-33e4-4e5d-81f0-029846d86b0f",
   "metadata": {},
   "source": [
    "### Step 3: Define and train model"
   ]
  },
  {
   "cell_type": "code",
   "execution_count": null,
   "id": "ead05c25-5016-4293-9712-145b86233e30",
   "metadata": {},
   "outputs": [],
   "source": [
    "model = ... #defining model as a statsmodel OLS object with response variable y \n",
    "# and predictors X"
   ]
  },
  {
   "cell_type": "code",
   "execution_count": null,
   "id": "2a4402f2-3275-42ce-94d6-0870e183db42",
   "metadata": {},
   "outputs": [],
   "source": [
    "results = ... #run the Ordinary Least Squares algorithm to find the optimal model\n",
    "# coefficients"
   ]
  },
  {
   "cell_type": "markdown",
   "id": "20b799af-fdd8-42f6-804b-500c2258af52",
   "metadata": {},
   "source": [
    "### Step 4: Analyze the model"
   ]
  },
  {
   "cell_type": "code",
   "execution_count": null,
   "id": "c1be0926-3768-464b-a9f5-8030f1b95fb9",
   "metadata": {},
   "outputs": [],
   "source": [
    "# your code here"
   ]
  },
  {
   "cell_type": "code",
   "execution_count": null,
   "id": "443f8f81-84a6-4746-8a49-93e0a8308dfa",
   "metadata": {},
   "outputs": [],
   "source": [
    "# your code here"
   ]
  },
  {
   "cell_type": "markdown",
   "id": "d5c84d87-79e5-45cf-bdc9-cc9287294e41",
   "metadata": {},
   "source": [
    "## Multiple linear regression in Python"
   ]
  },
  {
   "cell_type": "code",
   "execution_count": null,
   "id": "916ba0e5-88e6-4358-ba78-4ec9b77eb42c",
   "metadata": {},
   "outputs": [],
   "source": [
    "# your code here"
   ]
  }
 ],
 "metadata": {
  "kernelspec": {
   "display_name": "Python 3 (ipykernel)",
   "language": "python",
   "name": "python3"
  },
  "language_info": {
   "codemirror_mode": {
    "name": "ipython",
    "version": 3
   },
   "file_extension": ".py",
   "mimetype": "text/x-python",
   "name": "python",
   "nbconvert_exporter": "python",
   "pygments_lexer": "ipython3",
   "version": "3.9.7"
  }
 },
 "nbformat": 4,
 "nbformat_minor": 5
}
