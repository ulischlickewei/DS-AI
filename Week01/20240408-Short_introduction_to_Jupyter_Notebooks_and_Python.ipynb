{
  "cells": [
    {
      "cell_type": "markdown",
      "metadata": {
        "id": "view-in-github",
        "colab_type": "text"
      },
      "source": [
        "<a href=\"https://colab.research.google.com/github/ulischlickewei/DS-AI/blob/main/Week1/20240408-Short_introduction_to_Jupyter_Notebooks_and_Python.ipynb\" target=\"_parent\"><img src=\"https://colab.research.google.com/assets/colab-badge.svg\" alt=\"Open In Colab\"/></a>"
      ]
    },
    {
      "cell_type": "markdown",
      "metadata": {
        "id": "zwmHENfZhaDb"
      },
      "source": [
        "# Short introduction to Jupyter Notebooks and to Python"
      ]
    },
    {
      "cell_type": "markdown",
      "metadata": {
        "id": "notlIQT5k743"
      },
      "source": [
        "In today's lab, you'll learn/review how to:\n",
        "\n",
        "* Navigate Jupyter notebooks (like this one)\n",
        "* Write and evaluate some basic expressions in Python, the computer language of the course and use Python as a calculator\n",
        "* Create a variable in Python\n",
        "* Import code other people have written\n",
        "* Use conditional statements in Python\n",
        "* Do iterations in Python\n",
        "* Write function in Python\n"
      ]
    },
    {
      "cell_type": "markdown",
      "metadata": {
        "id": "WokOOHXRmmoq"
      },
      "source": [
        "*Copyright note*: The material in this lab is taken in significant parts from [Data 8 class of Berkeley University](http://data8.org/). These materials are generously shared by the colleagues under a Creative Commons license."
      ]
    },
    {
      "cell_type": "markdown",
      "metadata": {
        "id": "-ty-j_VImAHF"
      },
      "source": [
        "## 0) Jupyter Notebooks and Google Colab"
      ]
    },
    {
      "cell_type": "markdown",
      "metadata": {
        "id": "JcNMTY_ZmE_1"
      },
      "source": [
        "### 0.1: Jupyter Notebooks\n",
        "\n",
        "A Jupyter Notebook is a basically a nice looking web interface for the interactive Python interpreter. Interactive coding differs from classical coding. Instead of executing the whole program at once, you can execute small code cells in a sequential way. You can think of Jupyter Notebook as a chalk board. With each code cell, we we write something onto the chalk board. As long as we don't restart Notebook (=wiping the chalk board), we keep the changes made to our Notebook. This especially means that we don't have to execute previous code cells again and again if we make changes in subsequent cells. This also means that we have to execute previous code cells again (=overwriting the text written onto the chalk board) if we made changes to them.\n",
        "\n",
        "Jupyter Notebooks also allow text cells. With the text cells, we can create interactive code stories in which you can play around and experiment with the theory provided in the text cell. There even exist whole books written as Jupyter Notebooks!\n",
        "\n",
        "#### Text cells\n",
        "In a notebook, each rectangle containing text or code is called a *cell*.\n",
        "\n",
        "Text cells (like this one) can be edited by double-clicking on them. They're written in a simple format called [Markdown](http://daringfireball.net/projects/markdown/syntax) to add formatting and section headings.  You don't need to learn Markdown, but you might want to.\n",
        "\n",
        "After you edit a text cell, click the \"run cell\" button at the top that looks like ▶| or hold down `shift` + `return` to confirm any changes. (Try not to delete the instructions of the lab.)"
      ]
    },
    {
      "cell_type": "markdown",
      "metadata": {
        "id": "Se5BOklKoshu"
      },
      "source": [
        "#### Code cells\n",
        "Other cells contain code in the Python 3 language. Running a code cell will execute all of the code it contains.\n",
        "\n",
        "To run the code in a code cell, first click on that cell to activate it.  It'll be highlighted with a little green or blue rectangle.  Next, either press ▶| or hold down `shift` + `return`.\n",
        "\n",
        "Try running this cell:"
      ]
    },
    {
      "cell_type": "code",
      "execution_count": null,
      "metadata": {
        "id": "nmYeKE2jmIbo"
      },
      "outputs": [],
      "source": [
        "print(\"Hello world!\")"
      ]
    },
    {
      "cell_type": "markdown",
      "metadata": {
        "id": "idxlcdyUo0RI"
      },
      "source": [
        "## 0.2: Google Colab"
      ]
    },
    {
      "cell_type": "markdown",
      "metadata": {
        "id": "ho2P2i1Ho3YG"
      },
      "source": [
        "Google Colab is a freemium cloud service based on Jupyter Notebooks. It provides a virtual machine (VM) in which a Jupyter Notebook can be executed, even with hardware acceleration like GPUs. The whole process is similar to Google borrowing us one of its computers. We can access this borrowed computer through this browser window which shows a Jupyter Notebook running on Google's servers."
      ]
    },
    {
      "cell_type": "markdown",
      "metadata": {
        "id": "DpzWk1xFo5CH"
      },
      "source": [
        "## 1) Python basics"
      ]
    },
    {
      "cell_type": "markdown",
      "metadata": {
        "id": "Q3zK2AEvqRGB"
      },
      "source": [
        "Python is a high-level programming language with a very user-friendly syntax. Many open-source tools for Scientific Computing, Data Science and Machine Learning are available in Python which makes it one of the most important programming languages for scientits and engineers.\n",
        "\n",
        "Let's quickly browse through some of the basics of Python."
      ]
    },
    {
      "cell_type": "markdown",
      "metadata": {
        "id": "LXNy4lglp8__"
      },
      "source": [
        "### 1.1: Expressions\n",
        "The fundamental building block of Python code is an expression. Cells can contain multiple lines with multiple expressions. When you run a cell, the lines of code are executed in the order in which they appear. Every `print` expression prints a line. Run the next cell and notice the order of the output."
      ]
    },
    {
      "cell_type": "code",
      "execution_count": null,
      "metadata": {
        "id": "pGCai9FCqAOb"
      },
      "outputs": [],
      "source": [
        "print(\"First this line is printed,\")\n",
        "print(\"and then this one.\")"
      ]
    },
    {
      "cell_type": "markdown",
      "metadata": {
        "id": "mMpJHwZoqHyb"
      },
      "source": [
        "### 1.2: Using Python as a calculator"
      ]
    },
    {
      "cell_type": "markdown",
      "metadata": {
        "id": "sjT3bQzvpcqg"
      },
      "source": [
        "Quantitative information arises everywhere in Mathematics. In addition to representing commands to print out lines, expressions can represent numbers and methods of combining numbers. The expression `3.2500` evaluates to the number 3.25. (Run the cell and see.)"
      ]
    },
    {
      "cell_type": "code",
      "execution_count": null,
      "metadata": {
        "id": "Cr038QwTpxU2"
      },
      "outputs": [],
      "source": [
        "3.2500"
      ]
    },
    {
      "cell_type": "markdown",
      "metadata": {
        "id": "oep9DAUtqibV"
      },
      "source": [
        "The line in the next cell subtracts.  Its value is what you'd expect.  Run it."
      ]
    },
    {
      "cell_type": "code",
      "execution_count": null,
      "metadata": {
        "id": "mDI8dlnIqi2k"
      },
      "outputs": [],
      "source": [
        "3.25 - 1.5"
      ]
    },
    {
      "cell_type": "markdown",
      "metadata": {
        "id": "Mzz2iCQHqpFm"
      },
      "source": [
        "Many basic arithmetic operations are built into Python.  The Data 8 textbook section on [Expressions](http://www.inferentialthinking.com/chapters/03/1/Expressions.html) describes the most important arithmetic operators.  The common operator that differs from typical math notation is `**`, which raises one number to the power of the other. So, `2**3` stands for $2^3$ and evaluates to 8.\n",
        "\n",
        "The order of operations is the same as what you learned in elementary school, and Python also has parentheses.  For example, compare the outputs of the cells below. The second cell uses parentheses for a happy new year!"
      ]
    },
    {
      "cell_type": "code",
      "execution_count": null,
      "metadata": {
        "id": "VtYDVyfoqzZb"
      },
      "outputs": [],
      "source": [
        "5+6*5-6*3**2*2**3/4*7"
      ]
    },
    {
      "cell_type": "code",
      "execution_count": null,
      "metadata": {
        "id": "E99hCEEtqz5w"
      },
      "outputs": [],
      "source": [
        "5+(6*5-(6*3))**2*((2**3)/4*7)"
      ]
    },
    {
      "cell_type": "markdown",
      "metadata": {
        "id": "nl9miANOq_Je"
      },
      "source": [
        "In standard math notation, the first expression is\n",
        "\n",
        "$$3 + 6 \\times 5 - 6 \\times 3^2 \\times \\frac{2^3}{4} \\times 7,$$\n",
        "\n",
        "while the second expression is\n",
        "\n",
        "$$3 + (6 \\times 5 - (6 \\times 3))^2 \\times (\\frac{(2^3)}{4} \\times 7).$$"
      ]
    },
    {
      "cell_type": "markdown",
      "metadata": {
        "id": "caHaVZhYulgv"
      },
      "source": [
        "##### Question 1.2.1.\n",
        "Write a Python expression in this next cell that's equal to $5 \\times (3 \\frac{10}{11}) - 50 \\frac{1}{3} + 2^{.5 \\times 22} - \\frac{7}{33} + 6$.  That's five times three and ten elevenths, minus fifty and a third, plus two to the power of half twenty-two, minus seven thirty-thirds plus four.  By \"$3 \\frac{10}{11}$\" we mean $3+\\frac{10}{11}$, not $3 \\times \\frac{10}{11}$.\n",
        "\n",
        "Replace the ellipses (`...`) with your expression.  Try to use parentheses only when necessary.\n",
        "\n",
        "*Hint:* The correct output should start with a familiar number."
      ]
    },
    {
      "cell_type": "code",
      "execution_count": null,
      "metadata": {
        "id": "rhrjymH_uskc"
      },
      "outputs": [],
      "source": [
        "..."
      ]
    },
    {
      "cell_type": "markdown",
      "metadata": {
        "id": "CzvA0QPjq_m6"
      },
      "source": [
        "### 1.3 Names/variables"
      ]
    },
    {
      "cell_type": "markdown",
      "metadata": {
        "id": "mqCNvSB8wuB2"
      },
      "source": [
        "In natural language, we have terminology that lets us quickly reference very complicated concepts.  We don't say, \"That's a large mammal with brown fur and sharp teeth!\"  Instead, we just say, \"Bear!\"\n",
        "\n",
        "In Python, we do this with *assignment statements*. An assignment statement has a name on the left side of an `=` sign and an expression to be evaluated on the right."
      ]
    },
    {
      "cell_type": "code",
      "execution_count": null,
      "metadata": {
        "id": "buQjbecJwrXb"
      },
      "outputs": [],
      "source": [
        "ten = 3 * 2 + 4"
      ]
    },
    {
      "cell_type": "markdown",
      "metadata": {
        "id": "R9ojAqJuwy2m"
      },
      "source": [
        "When you run that cell, Python first computes the value of the expression on the right-hand side, `3 * 2 + 4`, which is the number 10.  Then it assigns that value to the name `ten`.  At that point, the code in the cell is done running.\n",
        "\n",
        "After you run that cell, the value 10 is bound to the name `ten`:"
      ]
    },
    {
      "cell_type": "code",
      "execution_count": null,
      "metadata": {
        "id": "O14CPjcCwzQD"
      },
      "outputs": [],
      "source": [
        "ten"
      ]
    },
    {
      "cell_type": "markdown",
      "metadata": {
        "id": "CDxzLm_Rw1O-"
      },
      "source": [
        "A common pattern in Jupyter notebooks is to assign a value to a name and then immediately evaluate the name in the last line in the cell so that the value is displayed as output."
      ]
    },
    {
      "cell_type": "code",
      "execution_count": null,
      "metadata": {
        "id": "atLtiZa_w4g2"
      },
      "outputs": [],
      "source": [
        "close_to_pi = 355/113\n",
        "close_to_pi"
      ]
    },
    {
      "cell_type": "markdown",
      "metadata": {
        "id": "SSTaUcH_2C25"
      },
      "source": [
        "##### Question 1.3.1.\n",
        "Newton's law of universal gravitation predicts that any object near the surface of the Moon which falls freely travels a distance of\n",
        "\n",
        "$$s = \\frac{1}{2} G \\frac{M}{R^2} t^2 \\text{ meters}$$\n",
        "\n",
        "where $t$ is the time of fall in seconds, $G$ is a universal constant, $M$ is the moon's mass in kilograms, and $R$ is the moon's radius in meters.  So if we know $G$, $M$, and $R$, then Newton's laws let us predict how far an object will fall over any amount of time.\n",
        "\n",
        "A hammer falls from a height of 113cm to the surface on the Moon. The falls takes 1.2 seconds.\n",
        "\n",
        "Complete the following code cell to compute the difference between predicted and measured distance that the hammer fell in this experiment."
      ]
    },
    {
      "cell_type": "code",
      "execution_count": null,
      "metadata": {
        "id": "kKtX7i2x2349"
      },
      "outputs": [],
      "source": [
        "# t, the duration of the fall in the experiment, in seconds.\n",
        "# **YOU FILL THIS VALUE IN**\n",
        "time = ...\n",
        "\n",
        "# The estimated distance the hammer actually fell, in meters.\n",
        "# **YOU FILL THIS VALUE IN**\n",
        "estimated_distance_m = ...\n",
        "\n",
        "# Next, we've written down the values of the 3 universal constants\n",
        "# that show up in Newton's formula.\n",
        "\n",
        "# G, the universal constant measuring the strength of gravity.\n",
        "gravity_constant = 6.674 * 10**-11\n",
        "\n",
        "# M, the moon's mass, in kilograms.\n",
        "moon_mass_kg = 7.34767309 * 10**22\n",
        "\n",
        "# R, the radius of the moon, in meters.\n",
        "moon_radius_m = 1.737 * 10**6\n",
        "\n",
        "# The distance the hammer should have fallen\n",
        "# over the duration of the fall, in meters,\n",
        "# according to Newton's law of gravity.\n",
        "# The text above describes the formula\n",
        "# for this distance given by Newton's law.\n",
        "# **YOU FILL THIS PART IN.**\n",
        "predicted_distance_m = ...\n",
        "\n",
        "# Here we've computed the difference\n",
        "# between the predicted fall distance and the distance we actually measured.\n",
        "# If you've filled in the above code, this should just work.\n",
        "difference = predicted_distance_m - estimated_distance_m\n",
        "difference"
      ]
    },
    {
      "cell_type": "markdown",
      "metadata": {
        "id": "8DmsIzdf4T-m"
      },
      "source": [
        "### 1.4: Importing code"
      ]
    },
    {
      "cell_type": "markdown",
      "metadata": {
        "id": "gCHPdqNx4XqZ"
      },
      "source": [
        "Most programming involves work that is very similar to work that has been done before.  Since writing code is time-consuming, it's good to rely on others' published code when you can.  Rather than copy-pasting, Python allows us to **import modules**. A module is a file with Python code that has defined variables and functions. By importing a module, we are able to use its code in our own notebook.\n",
        "\n",
        "Python includes many useful modules that are just an `import` away.  We'll look at the `math` module as a first example. The `math` module is extremely useful in computing mathematical expressions in Python.\n",
        "\n",
        "Suppose we want to very accurately compute the area of a circle with a radius of 5 meters.  For that, we need the constant $\\pi$, which is roughly 3.14.  Conveniently, the `math` module has `pi` defined for us:"
      ]
    },
    {
      "cell_type": "code",
      "execution_count": null,
      "metadata": {
        "id": "CV2IQdWt4dql"
      },
      "outputs": [],
      "source": [
        "import math\n",
        "radius = 5\n",
        "area_of_circle = radius**2 * math.pi\n",
        "area_of_circle"
      ]
    },
    {
      "cell_type": "markdown",
      "metadata": {
        "id": "cDAnXuaQ4ilq"
      },
      "source": [
        "In the code above, the line `import math` imports the math module. This statement creates a module and then assigns the name `math` to that module. We are now able to access any variables or functions defined within `math` by typing the name of the module followed by a dot, then followed by the name of the variable or function we want.\n",
        "\n",
        "    <module name>.<name>"
      ]
    },
    {
      "cell_type": "markdown",
      "metadata": {
        "id": "6-q9nJGs4jFc"
      },
      "source": [
        "##### Question 1.4.1.\n",
        "The module `math` also provides the name `e` for the base of the natural logarithm, which is roughly 2.71. Compute $e^{\\pi}-\\pi$, giving it the name `near_twenty`.\n",
        "\n",
        "*Remember: You can access `pi` from the `math` module as well!*"
      ]
    },
    {
      "cell_type": "code",
      "execution_count": null,
      "metadata": {
        "id": "abF_NQmg4mFW"
      },
      "outputs": [],
      "source": [
        "near_twenty = ..."
      ]
    },
    {
      "cell_type": "markdown",
      "metadata": {
        "id": "WgXAFyrR48K0"
      },
      "source": [
        "![XKCD](http://imgs.xkcd.com/comics/e_to_the_pi_minus_pi.png)\n",
        "\n",
        "[Source](http://imgs.xkcd.com/comics/e_to_the_pi_minus_pi.png)\n",
        "[Explanation](https://www.explainxkcd.com/wiki/index.php/217:_e_to_the_pi_Minus_pi)"
      ]
    },
    {
      "cell_type": "markdown",
      "metadata": {
        "id": "4a_mBLP45azH"
      },
      "source": [
        "## 2) Functions"
      ]
    },
    {
      "cell_type": "markdown",
      "metadata": {
        "id": "Lrn-SYXm-Uve"
      },
      "source": [
        "### 2.1: Calling functions"
      ]
    },
    {
      "cell_type": "markdown",
      "metadata": {
        "id": "_H-ceAnj_rH7"
      },
      "source": [
        "The most common way to combine or manipulate values in Python is by calling functions. Python comes with many built-in functions that perform common operations.\n",
        "\n",
        "For example, the `abs` function takes a single number as its argument and returns the absolute value of that number. Run the next two cells and see if you understand the output."
      ]
    },
    {
      "cell_type": "code",
      "execution_count": null,
      "metadata": {
        "id": "xkoRExvyEaUJ"
      },
      "outputs": [],
      "source": [
        "abs(5)"
      ]
    },
    {
      "cell_type": "code",
      "execution_count": null,
      "metadata": {
        "id": "gjlMclBPEaJI"
      },
      "outputs": [],
      "source": [
        "abs(-5)"
      ]
    },
    {
      "cell_type": "markdown",
      "metadata": {
        "id": "SFaiWdT_477X"
      },
      "source": [
        "In Question 1.4.1 above, you accessed variables within the `math` module.\n",
        "\n",
        "**Modules** also define **functions**.  For example, `math` provides the name `floor` for the floor function.  Having imported `math` already, we can write `math.floor(7.5)` to compute the floor of 7.5.  (Note that the floor function returns the largest integer less than or equal to a given number.)"
      ]
    },
    {
      "cell_type": "markdown",
      "metadata": {
        "id": "S2NZm763_j3Q"
      },
      "source": [
        "##### Question 2.1.1.\n",
        "Compute the floor of pi using `floor` and `pi` from the `math` module.  Give the result the name `floor_of_pi`."
      ]
    },
    {
      "cell_type": "code",
      "execution_count": null,
      "metadata": {
        "id": "Ikjw16X65FXr"
      },
      "outputs": [],
      "source": [
        "floor_of_pi = ..."
      ]
    },
    {
      "cell_type": "markdown",
      "metadata": {
        "id": "czZVVfkI8iZQ"
      },
      "source": [
        "### 2.2: Defining functions\n",
        "\n",
        "Let's write a very simple function that converts a proportion to a percentage by multiplying it by 100.  For example, the value of `to_percentage(.5)` should be the number 50 (no percent sign).\n",
        "\n",
        "A function definition has a few parts."
      ]
    },
    {
      "cell_type": "markdown",
      "metadata": {
        "id": "7gN_jSgg8loA"
      },
      "source": [
        "##### `def`\n",
        "It always starts with `def` (short for **def**ine):\n",
        "\n",
        "    def"
      ]
    },
    {
      "cell_type": "markdown",
      "metadata": {
        "id": "TKkbLvw58qEe"
      },
      "source": [
        "##### Name\n",
        "Next comes the name of the function.  Like other names we've defined, it can't start with a number or contain spaces. Let's call our function `to_percentage`:\n",
        "    \n",
        "    def to_percentage"
      ]
    },
    {
      "cell_type": "markdown",
      "metadata": {
        "id": "sVmb3rVO8vtR"
      },
      "source": [
        "##### Signature\n",
        "Next comes something called the *signature* of the function.  This tells Python how many arguments your function should have, and what names you'll use to refer to those arguments in the function's code.  A function can have any number of arguments (including 0!).\n",
        "\n",
        "`to_percentage` should take one argument, and we'll call that argument `proportion` since it should be a proportion.\n",
        "\n",
        "    def to_percentage(proportion)\n",
        "    \n",
        "If we want our function to take more than one argument, we add a comma between each argument name. Note that if we had zero arguments, we'd still place the parentheses () after that name.\n",
        "\n",
        "We put a **colon** after the signature to tell Python that the next indented lines are the body of the function. If you're getting a syntax error after defining a function, check to make sure you remembered the colon!\n",
        "\n",
        "    def to_percentage(proportion):"
      ]
    },
    {
      "cell_type": "markdown",
      "metadata": {
        "id": "4dvn_IzC8yPf"
      },
      "source": [
        "##### Documentation\n",
        "Functions can do complicated things, so you should write an explanation of what your function does.  For small functions, this is less important, but it's a good habit to learn from the start.  Conventionally, Python functions are documented by writing an **indented** triple-quoted string:\n",
        "\n",
        "    def to_percentage(proportion):\n",
        "        \"\"\"Converts a proportion to a percentage.\"\"\""
      ]
    },
    {
      "cell_type": "markdown",
      "metadata": {
        "id": "XJ5YaKbL81xd"
      },
      "source": [
        "##### Body\n",
        "Now we start writing code that runs when the function is called.  This is called the *body* of the function and every line **must be indented with a tab**.  Any lines that are *not* indented and left-aligned with the def statement is considered outside the function.\n",
        "\n",
        "Some notes about the body of the function:\n",
        "- We can write code that we would write anywhere else.  \n",
        "- We use the arguments defined in the function signature. We can do this because we assume that when we call the function, values are already assigned to those arguments.\n",
        "- We generally avoid referencing variables defined *outside* the function. If you would like to reference variables outside of the function, pass them through as arguments!\n",
        "\n",
        "\n",
        "Now, let's give a name to the number we multiply a proportion by to get a percentage:\n",
        "\n",
        "    def to_percentage(proportion):\n",
        "        \"\"\"Converts a proportion to a percentage.\"\"\"\n",
        "        factor = 100"
      ]
    },
    {
      "cell_type": "markdown",
      "metadata": {
        "id": "jZ_CPY4f84YY"
      },
      "source": [
        "##### `return`\n",
        "The special instruction `return` is part of the function's body and tells Python to make the value of the function call equal to whatever comes right after `return`.  We want the value of `to_percentage(.5)` to be the proportion .5 times the factor 100, so we write:\n",
        "\n",
        "    def to_percentage(proportion):\n",
        "        \"\"\"Converts a proportion to a percentage.\"\"\"\n",
        "        factor = 100\n",
        "        return proportion * factor\n",
        "        \n",
        "`return` only makes sense in the context of a function, and **can never be used outside of a function**. `return` is always the last line of the function because Python stops executing the body of a function once it hits a `return` statement. If a function does not have a return statement, it will not return anything; if you expect a value back from the function, make sure to include a return statement.\n",
        "\n",
        "*Note:*  `return` inside a function tells Python what value the function evaluates to. However, there are other functions, like `print`, that have no `return` value. For example, `print` simply prints a certain value out to the console.\n",
        "\n",
        "`return` and `print` are **very** different."
      ]
    },
    {
      "cell_type": "markdown",
      "metadata": {
        "id": "pQH1dRjg9AGL"
      },
      "source": [
        "##### Question 2.2.1.\n",
        "Define `to_percentage` in the cell below.  Call your function to convert the proportion .2 to a percentage.  Name that percentage `twenty_percent`."
      ]
    },
    {
      "cell_type": "code",
      "execution_count": null,
      "metadata": {
        "id": "0aMB0NMQ8p1A"
      },
      "outputs": [],
      "source": [
        "...\n",
        "\n",
        "twenty_percent = to_percentage(0.2)\n",
        "twenty_percent"
      ]
    },
    {
      "cell_type": "markdown",
      "metadata": {
        "id": "2mGDdM8H5ddK"
      },
      "source": [
        "Here's something important about functions: the names assigned *within* a function body are only accessible within the function body. Once the function has returned, those names are gone.  So even if you created a variable called `factor` and defined `factor = 100` inside of the body of the `to_percentage` function and then called `to_percentage`, `factor` would not have a value assigned to it outside of the body of `to_percentage`:"
      ]
    },
    {
      "cell_type": "code",
      "execution_count": null,
      "metadata": {
        "id": "tCN2r3jo9RMJ"
      },
      "outputs": [],
      "source": [
        "factor"
      ]
    },
    {
      "cell_type": "markdown",
      "metadata": {
        "id": "ua_b6CQ69ocU"
      },
      "source": [
        "Like you’ve done with built-in functions in previous labs (max, abs, etc.), you can pass in named values as arguments to your function.\n",
        "\n",
        "##### Question 2.2.2.\n",
        "Use `to_percentage` again to convert the proportion named `a_proportion` (defined below) to a percentage called `a_percentage`.\n",
        "\n",
        "*Note:* You don't need to define `to_percentage` again!  Like other named values, functions stick around after you define them."
      ]
    },
    {
      "cell_type": "code",
      "execution_count": null,
      "metadata": {
        "id": "fkdiyLca9o-R"
      },
      "outputs": [],
      "source": [
        "a_proportion = 2**(0.5)/2\n",
        "a_percentage = ...\n",
        "a_percentage"
      ]
    },
    {
      "cell_type": "markdown",
      "metadata": {
        "id": "lU3cIuw-94Rj"
      },
      "source": [
        "As we've seen with built-in functions, functions can also take strings (or arrays, or tables) as arguments, and they can return those things, too.\n",
        "\n",
        "In the following cell, we will define a function called `disemvowel`.  It takes in a single string as its argument. It returns a copy of that string, but with all the characters that are vowels removed.  (In English, the vowels are the characters \"a\", \"e\", \"i\", \"o\", and \"u\".)\n",
        "\n",
        "To remove all the \"a\"s from a string, we used `a_string.replace(\"a\", \"\")`.  The `.replace` method for strings returns a new string, so we can call `replace` multiple times, one after the other."
      ]
    },
    {
      "cell_type": "code",
      "execution_count": null,
      "metadata": {
        "id": "eG5TqVHw94ot"
      },
      "outputs": [],
      "source": [
        "def disemvowel(a_string):\n",
        "    \"\"\"Removes all vowels from a string.\"\"\"\n",
        "    return a_string.replace(\"a\", \"\").replace(\"e\", \"\").replace(\"i\", \"\").replace(\"o\", \"\").replace(\"u\", \"\")\n",
        "\n",
        "# An example call to the function.  (It's often helpful to run\n",
        "# an example call from time to time while we're writing a function,\n",
        "# to see how it currently works.)\n",
        "disemvowel(\"Can you read this without vowels?\")"
      ]
    },
    {
      "cell_type": "markdown",
      "metadata": {
        "id": "rfL8RYkp9_2_"
      },
      "source": [
        "##### Calls on calls on calls\n",
        "Just as you write a series of lines to build up a complex computation, it's useful to define a series of small functions that build on each other.  Since you can write any code inside a function's body, you can call other functions you've written.\n",
        "\n",
        "If a function is a like a recipe, defining a function in terms of other functions is like having a recipe for cake telling you to follow another recipe to make the frosting, and another to make the jam filling.  This makes the cake recipe shorter and clearer, and it avoids having a bunch of duplicated frosting recipes.  It's a foundation of productive programming.\n",
        "\n",
        "For example, suppose you want to count the number of characters *that aren't vowels* in a piece of text.  One way to do that is this to remove all the vowels and count the size of the remaining string."
      ]
    },
    {
      "cell_type": "markdown",
      "metadata": {
        "id": "cybL3iIo_cFI"
      },
      "source": [
        "##### Question 2.2.3.\n",
        "Write a function called `num_non_vowels`.  It should take a string as its argument and return a number.  That number should be the number of characters in the argument string that aren't vowels. You should use the `disemvowel` function we provided above inside of the `num_non_vowels` function.\n",
        "\n",
        "*Hint:* The function `len` takes a string as its argument and returns the number of characters in it."
      ]
    },
    {
      "cell_type": "code",
      "execution_count": null,
      "metadata": {
        "id": "J4AViCJ0-AVV"
      },
      "outputs": [],
      "source": [
        "def num_non_vowels(a_string):\n",
        "    \"\"\"The number of characters in a string, minus the vowels.\"\"\"\n",
        "    ...\n",
        "\n",
        "# Try calling your function yourself to make sure the output is what\n",
        "# you expect."
      ]
    },
    {
      "cell_type": "markdown",
      "metadata": {
        "id": "Hc3aUpe15TK7"
      },
      "source": [
        "## 3) Conditional statements"
      ]
    },
    {
      "cell_type": "markdown",
      "metadata": {
        "id": "VKITswa4BNtd"
      },
      "source": [
        "A conditional statement is a multi-line statement that allows Python to choose among different alternatives based on the truth value of an expression.\n",
        "\n",
        "Here is a basic example.\n",
        "\n",
        "```\n",
        "def sign(x):\n",
        "    if x > 0:\n",
        "        return 'Positive'\n",
        "    else:\n",
        "        return 'Negative'\n",
        "```\n",
        "\n",
        "If the input `x` is greater than `0`, we return the string `'Positive'`. Otherwise, we return `'Negative'`.\n",
        "\n",
        "If we want to test multiple conditions at once, we use the following general format.\n",
        "\n",
        "```\n",
        "if <if expression>:\n",
        "    <if body>\n",
        "elif <elif expression 0>:\n",
        "    <elif body 0>\n",
        "elif <elif expression 1>:\n",
        "    <elif body 1>\n",
        "...\n",
        "else:\n",
        "    <else body>\n",
        "```\n",
        "\n",
        "Only the body for the first conditional expression that is true will be evaluated. Each `if` and `elif` expression is evaluated and considered in order, starting at the top. `elif` can only be used if an `if` clause precedes it. As soon as a true value is found, the corresponding body is executed, and the rest of the conditional statement is skipped. If none of the `if` or `elif` expressions are true, then the `else body` is executed.\n",
        "\n",
        "For more examples and explanation, refer to the section on conditional statements [here](https://inferentialthinking.com/chapters/09/1/Conditional_Statements.html)."
      ]
    },
    {
      "cell_type": "markdown",
      "metadata": {
        "id": "aGMWPoFuE-Wo"
      },
      "source": [
        "##### Question 3.1.\n",
        "Implement a function `my_abs` which takes a number as an argument and returns the absolute value of that number."
      ]
    },
    {
      "cell_type": "code",
      "execution_count": null,
      "metadata": {
        "id": "xraJlb6VFNmj"
      },
      "outputs": [],
      "source": [
        "def my_abs(x):\n",
        "  ..."
      ]
    },
    {
      "cell_type": "markdown",
      "metadata": {
        "id": "DlbqiDKZ5YiU"
      },
      "source": [
        "## 4) Iterations"
      ]
    },
    {
      "cell_type": "markdown",
      "metadata": {
        "id": "XiwtxXSeC5tm"
      },
      "source": [
        "Using a `for` statement, we can perform a task multiple times. This is known as iteration. The general structure of a for loop is:\n",
        "\n",
        "`for <placeholder> in <array>:` followed by indented lines of code that are repeated for each element of the `array` being iterated over. You can read more about for loops [here](https://www.inferentialthinking.com/chapters/09/2/Iteration.html).\n",
        "\n",
        "**NOTE:** We often use `i` as the `placeholder` in our class examples, but you could name it anything! Some examples can be found below.\n",
        "\n",
        "One use of iteration is to loop through a set of values. For instance, we can print out all of the colors of the rainbow."
      ]
    },
    {
      "cell_type": "code",
      "execution_count": null,
      "metadata": {
        "colab": {
          "base_uri": "https://localhost:8080/"
        },
        "id": "vx-QBdGP5aEz",
        "outputId": "a36b71a0-bb4e-4293-ca89-18d27f2a34a6"
      },
      "outputs": [
        {
          "name": "stdout",
          "output_type": "stream",
          "text": [
            "red\n",
            "orange\n",
            "yellow\n",
            "green\n",
            "blue\n",
            "indigo\n",
            "violet\n"
          ]
        }
      ],
      "source": [
        "rainbow = [\"red\", \"orange\", \"yellow\", \"green\", \"blue\", \"indigo\", \"violet\"]\n",
        "\n",
        "for color in rainbow:\n",
        "    print(color)"
      ]
    },
    {
      "cell_type": "markdown",
      "metadata": {
        "id": "4O6bbeAqDGUW"
      },
      "source": [
        "We can see that the indented part of the `for` loop, known as the body, is executed once for each item in `rainbow`. The name `color` is assigned to the next value in `rainbow` at the start of each iteration. Note that the name `color` is arbitrary; we could easily have named it something else. The important thing is we stay consistent throughout the `for` loop."
      ]
    },
    {
      "cell_type": "code",
      "execution_count": null,
      "metadata": {
        "id": "SUvFlq20DBEf"
      },
      "outputs": [],
      "source": [
        "for another_name in rainbow:\n",
        "    print(another_name)"
      ]
    },
    {
      "cell_type": "markdown",
      "metadata": {
        "id": "_IEovxjkDO6o"
      },
      "source": [
        "Typically, we will iterate over integer numbers. For example:"
      ]
    },
    {
      "cell_type": "code",
      "execution_count": null,
      "metadata": {
        "colab": {
          "base_uri": "https://localhost:8080/"
        },
        "id": "5ZbXSJ_VDSjZ",
        "outputId": "25d43784-34d3-43e8-f2d3-6b254b59c37b"
      },
      "outputs": [
        {
          "name": "stdout",
          "output_type": "stream",
          "text": [
            "0\n",
            "1\n",
            "2\n",
            "3\n",
            "4\n",
            "5\n",
            "6\n",
            "7\n",
            "8\n",
            "9\n"
          ]
        }
      ],
      "source": [
        "for i in range(10):\n",
        "  print(i)"
      ]
    },
    {
      "cell_type": "markdown",
      "metadata": {
        "id": "WCf-FC5PDVVW"
      },
      "source": [
        "Here, we are using the [range](https://docs.python.org/3/library/stdtypes.html#typesseq-range) function from Python.\n"
      ]
    },
    {
      "cell_type": "markdown",
      "metadata": {
        "id": "lBXjBBypDjtB"
      },
      "source": [
        "##### Question 4.1.\n",
        "Write a function `my_factorial(n)` that computes $n! = n \\cdot (n-1) \\cdot \\ldots \\cdot 1$ for a given natural number $n$.\n",
        "\n",
        "*Hint*: You need to make sure that your `range()` in the iteration starts at the right number. See the [documentation](https://docs.python.org/3/library/stdtypes.html#typesseq-range)."
      ]
    },
    {
      "cell_type": "markdown",
      "metadata": {
        "id": "oI279jN7D-WX"
      },
      "source": [
        "Obviously, Python provides a module which implements the factorial function, the `math` module:"
      ]
    },
    {
      "cell_type": "code",
      "execution_count": null,
      "metadata": {
        "id": "Db_chT0oD7MV"
      },
      "outputs": [],
      "source": [
        "import math\n",
        "math.factorial(3)"
      ]
    }
  ],
  "metadata": {
    "colab": {
      "provenance": [],
      "toc_visible": true,
      "include_colab_link": true
    },
    "kernelspec": {
      "display_name": "Python 3 (ipykernel)",
      "language": "python",
      "name": "python3"
    },
    "language_info": {
      "codemirror_mode": {
        "name": "ipython",
        "version": 3
      },
      "file_extension": ".py",
      "mimetype": "text/x-python",
      "name": "python",
      "nbconvert_exporter": "python",
      "pygments_lexer": "ipython3",
      "version": "3.9.13"
    }
  },
  "nbformat": 4,
  "nbformat_minor": 0
}